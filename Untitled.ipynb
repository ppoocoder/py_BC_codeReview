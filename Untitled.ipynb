{
 "cells": [
  {
   "cell_type": "code",
   "execution_count": 9,
   "metadata": {},
   "outputs": [],
   "source": [
    "import hashlib\n",
    "import time \n",
    "import csv\n",
    "from http.server import BaseHTTPRequestHandler, HTTPServer\n",
    "from socketserver import ThreadingMixIn\n",
    "import json \n",
    "import re \n",
    "from urllib.parse import parse_qs\n",
    "from urllib.parse import urlparse\n",
    "import threading\n",
    "import cgi\n",
    "import uuid\n",
    "from tempfile import NamedTemporaryFile\n",
    "import shutil\n"
   ]
  },
  {
   "cell_type": "code",
   "execution_count": 10,
   "metadata": {},
   "outputs": [],
   "source": [
    "PORT_NUMBER  = 8090"
   ]
  },
  {
   "cell_type": "code",
   "execution_count": null,
   "metadata": {},
   "outputs": [],
   "source": [
    "g_txFileName =\"txData.csv\"\n",
    "g_bcFileName = \"blockchain.csv\"\n",
    "g_nodeList = {}\n"
   ]
  },
  {
   "cell_type": "code",
   "execution_count": 11,
   "metadata": {},
   "outputs": [],
   "source": [
    "class Block:\n",
    "    \n",
    "    def __init__(self , index, previousHash, timestamp, data, currentHash, proof ):\n",
    "         self.index = index\n",
    "         self.previousHash = previousHash\n",
    "         self.timestamp = timestamp\n",
    "         self.data = data\n",
    "         self.currentHash = currentHash\n",
    "         self.proof = proof\n",
    "    \n",
    "    def toJson(self):\n",
    "         return json.dumps(self, default=lambda o:o.__dic__, sort_keys=True, indent=4)"
   ]
  },
  {
   "cell_type": "code",
   "execution_count": 13,
   "metadata": {},
   "outputs": [],
   "source": [
    "class txData:\n",
    "    \n",
    "    def __init__(self, commitYN, sender, amount, receiver, uuid):\n",
    "         self.commitYN = commitYN\n",
    "         self.sender = sender\n",
    "         self.amount = amount\n",
    "         self.receiver = receiver\n",
    "         self.uuid = uuid"
   ]
  },
  {
   "cell_type": "code",
   "execution_count": 14,
   "metadata": {},
   "outputs": [],
   "source": [
    "def generateGenesisBlock():\n",
    "     print(\"generateGenesisBlock is called\")\n",
    "     timestamp = time.time()\n",
    "     print(\"time.time() =>  %f  \\n\" % timestamp)\n",
    "     tempHash = calculateHash(0, '0', timestamp, \"My very first block :)\", 0)\n",
    "     print(tempHash)\n",
    "     return Block(0, '0', timestamp, \"My very first block\", tempHash, 0)"
   ]
  },
  {
   "cell_type": "code",
   "execution_count": 15,
   "metadata": {},
   "outputs": [],
   "source": [
    "def calculateHash(index, previousHash, timestamp, data, proof):\n",
    "     value = str(index) + str(previousHash) + str(timestamp) + str(data) + str(proof)\n",
    "     sha = hashlib.sha256(value.encode('utf-8'))\n",
    "     return str(sha.hexdigest())\n",
    "     "
   ]
  },
  {
   "cell_type": "code",
   "execution_count": null,
   "metadata": {},
   "outputs": [],
   "source": [
    "def getLatestBlock(blockchain):\n",
    "     return blockchain[len(blockchain) - 1 ]"
   ]
  },
  {
   "cell_type": "code",
   "execution_count": null,
   "metadata": {},
   "outputs": [],
   "source": [
    "def generateNextBlock(blockchain, blockData, timestamp, proof):\n",
    "     previousBlock = getLatesBlock(blockchain)\n",
    "     nextIndex = int(previousBlock.index) + 1\n",
    "     nextTimestamp = timestamp\n",
    "     nextHash = calculateHash(nextIndex, previousBlock.currentHash, nextTimestamp, blockData, proof)\n",
    "     return Block(nextIndex, previousBlock.currentHash, nextTimestamp, blockData, nextHash, proof)"
   ]
  },
  {
   "cell_type": "code",
   "execution_count": null,
   "metadata": {},
   "outputs": [],
   "source": [
    "def writeBlockchain(blockchain):\n",
    "     blockchainList =[]\n",
    "        for block in blockchain:\n",
    "             blockList = [block.index, block.previousHash, str(block.timestamp), block.data, block.currentHash, block.proof]\n",
    "             blockchainList.append(blockList)\n",
    "        with open(g_bcFileName, \"w\", newline=' ') as file:\n",
    "             writer = csv.writer(file)\n",
    "             writer.writerows(blockchainList)\n",
    "        \n",
    "        for block in blockchain:\n",
    "             updateTx(block)\n",
    "                \n",
    "         print('Blockchain written to blockchain.csv .')\n",
    "         print('Broadcasting founded block to other nodes ')\n",
    "            "
   ]
  },
  {
   "cell_type": "code",
   "execution_count": null,
   "metadata": {},
   "outputs": [],
   "source": [
    "def updateTx(blockData) :\n",
    "    phrase = re.compile(r\"\\w +[-]\\w+[-]\\w+[-]\\w+[-]\\w+\"\")   # ----???? \n",
    "    matchList = pharse.findall(blockData.data)\n",
    "            "
   ]
  },
  {
   "cell_type": "code",
   "execution_count": null,
   "metadata": {},
   "outputs": [],
   "source": [
    "def calculateHashForBlock(block):\n",
    "     return calculateHash(block.index, block.previousHash, block.timestamp, block.data, block.proof)"
   ]
  },
  {
   "cell_type": "code",
   "execution_count": null,
   "metadata": {},
   "outputs": [],
   "source": []
  }
 ],
 "metadata": {
  "kernelspec": {
   "display_name": "Python 3",
   "language": "python",
   "name": "python3"
  },
  "language_info": {
   "codemirror_mode": {
    "name": "ipython",
    "version": 3
   },
   "file_extension": ".py",
   "mimetype": "text/x-python",
   "name": "python",
   "nbconvert_exporter": "python",
   "pygments_lexer": "ipython3",
   "version": "3.5.5"
  }
 },
 "nbformat": 4,
 "nbformat_minor": 2
}
