{
 "cells": [
  {
   "cell_type": "code",
   "execution_count": 2,
   "metadata": {},
   "outputs": [],
   "source": [
    "from http.server import BaseHTTPRequestHandler, HTTPServer"
   ]
  },
  {
   "cell_type": "code",
   "execution_count": 3,
   "metadata": {},
   "outputs": [],
   "source": [
    "from socketserver import ThreadingMixIn"
   ]
  },
  {
   "cell_type": "code",
   "execution_count": 9,
   "metadata": {},
   "outputs": [],
   "source": [
    "import json\n",
    "\n",
    "import time"
   ]
  },
  {
   "cell_type": "code",
   "execution_count": null,
   "metadata": {},
   "outputs": [],
   "source": [
    "import hashlib"
   ]
  },
  {
   "cell_type": "code",
   "execution_count": 7,
   "metadata": {},
   "outputs": [],
   "source": [
    "import csv"
   ]
  },
  {
   "cell_type": "code",
   "execution_count": null,
   "metadata": {},
   "outputs": [],
   "source": [
    "import re"
   ]
  },
  {
   "cell_type": "code",
   "execution_count": 8,
   "metadata": {},
   "outputs": [],
   "source": [
    "class Block:\n",
    "    def __init__(self, index, previousHash, timestamp, data, currentHash, proof):\n",
    "        self.index = index\n",
    "        self.previousHash = previousHash\n",
    "        self.timstmap = timestamp\n",
    "        self.data = data\n",
    "        self.currentHash = currentHash\n",
    "        self.proof = proof\n",
    "        \n",
    "    def toJson(self):\n",
    "        return json.dumps(self, default= lambda o: o.__dict__, sort_key =True, indent =4) #sort_key=True 는orderd와 비슷함 indent \n",
    "\n",
    "class txData:\n",
    "    \n",
    "    def __init__(self, commitYN, sender,amount, receiver, uuid):\n",
    "        self.commitYN = commitYN\n",
    "        self.sender = sender\n",
    "        self.amount = receiver\n",
    "        self.uuid = uuid\n",
    "\n",
    "# def generateGenesisBlock():\n",
    "#     print(\"generateGenesisBlock is called : 블록체인의 첫 번쨰 블록이 호출되다\")\n",
    "#     timestamp = time.time()\n",
    "#     print(\"time.time() -> %f \\n\" % timpstamp)\n",
    "#     tempHash = calculateHash(0, '0', timestamp, \"My very first block : 나의 최초의 블록 :)\", 0) #첫 블록의 해쉬값(tempHash ** currentHash[Block] )을 만들기 위해 현 파일 내 의 calculateHash함수를 사용 \n",
    "#     print(tempHash)\n",
    "#     return Block(0,'0',timestamp,\"My very first block\", tempHash, 0) #계산된 tempHash [Block.currentHash]를 포함, 블록(class Block: )을 생성하고 리턴함 \n",
    "\n",
    " \n",
    "\n",
    "def calculateHash(index, previousHash,timestamp,data, proof):\n",
    "    value = str(index) + str(previousHash) + str(timestamp) + str(data) + str(proof)\n",
    "    sha = hashlib.sha256(value.encode('utf-8'))\n",
    "    return str(sha.hexdigest())\n",
    "\n",
    "\n",
    "def generateNextBlock(blockchain, blockData, timestamp, proof):\n",
    "    previousBlock = getLatestBlock(blockchain)   # return -- blockchain 객체\n",
    "    nextIndex = int(previousBlock.index) + 1\n",
    "    nextTimestamp = timestamp \n",
    "    nextHash = calculateHash(nexIndex, previousBlock.currentHash, nextTimestamp, blockData, proof )\n",
    "    return Block(nextIndex, previousBlock.currentHash, nextTimestamp, blockData, nextHash, proof)\n",
    "    \n",
    "def getLastestBlock(blockchain):\n",
    "    return blockchain[len(blockchain) - 1] #blockchain[ 마지막 번째]\n",
    "\n",
    "\n",
    "def mineNewBlock(difficulty=2, blockchaiPath='blockchain.csv'):\n",
    "    blockchain = readBlockchain(blockchainPath)\n",
    "    txData = getTxData()\n",
    "    timestamp = time.time()\n",
    "    proof =0 \n",
    "    newBlockFound = False\n",
    "    \n",
    "    print('Minig a blockk ... : 채굴 중...')\n",
    "    while not newBlockFound: \n",
    "        newBlockAttmpt = generateNextBlock(blockchain, txData, timestamp, proof)  #첫 블록을 'blockchain.csv 에서 불러옴 이전 블록과 현재 블록의 txData를 통해 hash 처리하고 nextBlock을 생성함\n",
    "        if newBlockAttmpt.currentHash[0:difficulty] =='0' * difficulty:\n",
    "            stopTime = time,time()\n",
    "            timer = stopTime - timestamp\n",
    "            print('New block found with proof', proof, 'in', round(timer, 2), 'seconds.')   # proof 증명으로 증명횟수와 시간을 측정, 변화되는 블록의 내부 필드 값은 없음\n",
    "            newBlockFound =True\n",
    "        else:\n",
    "            proof += 1\n",
    "    blockchain.append(newBlockAttempt)\n",
    "    writeBlockchain(blockchain)\n",
    "    \n",
    "\n",
    "def readBlockchain(blockchainFilePath, mode='internal'):  ####---------------------------------\n",
    "    print(\"readBlockchain\")\n",
    "    importedBlockchain=[]\n",
    "    \n",
    "    try:\n",
    "        with open(blockchainFilePath, 'r', newline='') as file:\n",
    "            blockReader = csv.reader(file)\n",
    "            for line in blockReader:\n",
    "                block = Block(line[0],line[1],line[2],line[3],line[4],line[5])\n",
    "                importedBlockchain.append(block)\n",
    "        \n",
    "        print(\"Pulling blockchain from csv...\")\n",
    "        \n",
    "        return importedBlockchain\n",
    "    except:\n",
    "        if mode =='internal' :\n",
    "            return [generateGenesisBlock()]   ######-----------------------------------------------\n",
    "\n",
    "        else:\n",
    "            return None\n",
    "\n",
    "\n",
    "        \n",
    "def writeBlockchain(blockchain):   # 단한개의 blockchain의 파라미터가 아니라 blockchains in the file of blockData\n",
    "    blokchainList=[]                 ## - --------- 왜 블록LIST를  최기화 하는 이유: 바로 이전의 파라미터가 파일의 기록 모두를 읽어오기 때문\n",
    "    \n",
    "    for block in blockchain:\n",
    "        blockList = [block.index, block.previousHash, str(block.timestamp), block.data, block.currentHash, block.proof ]   #속도 저하의 원인 부분이라고 예상 : 블록 데이터가 많이 쌓일수록 모든 데이터를 읽어오고 변화하는데 시간이 걸림\n",
    "        blockchainList.append(blockList)\n",
    "    \n",
    "    with open(g_bcFileName, \"w\", newline='') as file:\n",
    "        writer = csv.writer(file)\n",
    "        writer.writerows(blockchainList)\n",
    "        \n",
    "    for block in blockchain:\n",
    "        updateTx(block)\n",
    "    \n",
    "    print('Blockchain written to blockchain.csv.')\n",
    "    print('Broadcasting founed block to other nodes')\n",
    "    \n",
    "    \n",
    "    \n",
    "def updataTx(blockData):\n",
    "    \n",
    "    phrase = re.compile()\n",
    "    \n",
    "\n"
   ]
  },
  {
   "cell_type": "code",
   "execution_count": null,
   "metadata": {},
   "outputs": [],
   "source": []
  },
  {
   "cell_type": "code",
   "execution_count": null,
   "metadata": {},
   "outputs": [],
   "source": []
  }
 ],
 "metadata": {
  "kernelspec": {
   "display_name": "Python 3",
   "language": "python",
   "name": "python3"
  },
  "language_info": {
   "codemirror_mode": {
    "name": "ipython",
    "version": 3
   },
   "file_extension": ".py",
   "mimetype": "text/x-python",
   "name": "python",
   "nbconvert_exporter": "python",
   "pygments_lexer": "ipython3",
   "version": "3.5.5"
  }
 },
 "nbformat": 4,
 "nbformat_minor": 2
}
